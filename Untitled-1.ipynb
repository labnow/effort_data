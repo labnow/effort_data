{
 "cells": [
  {
   "cell_type": "code",
   "execution_count": null,
   "metadata": {},
   "outputs": [],
   "source": [
    "import os\n",
    "\n",
    "# logging.info('ABC')\n",
    "for root, dirs, files in os.walk('reportFromVendor', topdown=True):\n",
    "    for name in files:\n",
    "        if name.split('_')[0] in ['Foryou', 'Waylancer', 'Jintect', 'CANTECH'] and name.split('.')[-1] == 'xlsx':\n",
    "            # logging.info(os.path.join(root, name))\n",
    "            print(name)"
   ]
  },
  {
   "cell_type": "code",
   "execution_count": null,
   "metadata": {},
   "outputs": [],
   "source": [
    "t_list = list()\n",
    "with open('t_1', 'r') as f:\n",
    "    # for lin\n",
    "    t_list = [i.strip() for i in f]\n",
    "\n",
    "t_list"
   ]
  },
  {
   "cell_type": "code",
   "execution_count": 3,
   "metadata": {},
   "outputs": [],
   "source": [
    "with open('tmp', 'r+') as f:\n",
    "    f.write('abc')"
   ]
  },
  {
   "cell_type": "code",
   "execution_count": 12,
   "metadata": {},
   "outputs": [
    {
     "name": "stdout",
     "output_type": "stream",
     "text": [
      "630\n"
     ]
    }
   ],
   "source": [
    "import json\n",
    "import pandas\n",
    "# data dataDumped\n",
    "cols4 = ['project','amount', 'invoiceDate', 'type']\n",
    "ols2 = ['project','billDate','expense','category', 'partner']\n",
    "t_data = list()\n",
    "t_data2 = list()\n",
    "with open('billing_status.json', 'r') as f:\n",
    "    revenue = json.load(f)['data']\n",
    "\n",
    "with open('from_vendor.json', 'r') as f:\n",
    "    expense = json.load(f)['data']\n",
    "\n",
    "with open('ecn_cost.json', 'r') as f:\n",
    "    rbei = json.load(f)['data']\n",
    "\n",
    "for key, item in revenue.items():\n",
    "    t_data.append((item[0], item[2]*1.06, item[1], '03-Revenue'))\n",
    "\n",
    "for key, item in expense.items():\n",
    "    t_data.append((item[0], item[3]*-1, item[2], '02-RBEI'))\n",
    "    t_data2.append((item[0], item[2], item[3], item[4], item[5]))\n",
    "\n",
    "for key, item in rbei.items():\n",
    "    t_data.append((item[0], item[2]*-1, item[1], '01-Vendor'))\n",
    "\n",
    "print(len(t_data2))\n"
   ]
  },
  {
   "cell_type": "code",
   "execution_count": 9,
   "metadata": {},
   "outputs": [
    {
     "name": "stdout",
     "output_type": "stream",
     "text": [
      "758\n"
     ]
    }
   ],
   "source": [
    "import csv\n",
    "\n",
    "with open('dataDumped.csv', 'w', encoding='UTF8', newline='') as f:\n",
    "    writer = csv.writer(f)\n",
    "\n",
    "    # write the header\n",
    "    writer.writerow(cols4)\n",
    "\n",
    "    # write multiple rows\n",
    "    writer.writerows(t_data)"
   ]
  },
  {
   "cell_type": "code",
   "execution_count": null,
   "metadata": {},
   "outputs": [],
   "source": [
    "print(len(t_data))"
   ]
  },
  {
   "cell_type": "code",
   "execution_count": 4,
   "metadata": {},
   "outputs": [
    {
     "name": "stderr",
     "output_type": "stream",
     "text": [
      "__main__ - WARNING - This is a warning\n",
      "__main__ - WARNING - This is a warning\n",
      "__main__ - WARNING - This is a warning\n",
      "__main__ - WARNING - This is a warning\n",
      "__main__ - ERROR - This is an error\n",
      "__main__ - ERROR - This is an error\n",
      "__main__ - ERROR - This is an error\n",
      "__main__ - ERROR - This is an error\n",
      "__main__ - INFO - debug msg\n",
      "__main__ - INFO - debug msg\n",
      "__main__ - INFO - debug msg\n",
      "__main__ - INFO - debug msg\n"
     ]
    }
   ],
   "source": [
    "import logging\n",
    "\n",
    "logger = logging.getLogger(__name__)\n",
    "logger.setLevel(logging.DEBUG)\n",
    "\n",
    "# Create handlers\n",
    "stream_handler = logging.StreamHandler()\n",
    "file_handler = logging.FileHandler('default.log')\n",
    "\n",
    "# Configure level and formatter and add it to handlers\n",
    "stream_handler.setLevel(logging.INFO) # warning and above is logged to the stream\n",
    "file_handler.setLevel(logging.INFO) # error and above is logged to a file\n",
    "\n",
    "stream_format = logging.Formatter('%(name)s - %(levelname)s - %(message)s')\n",
    "file_format = logging.Formatter('%(asctime)s - %(name)s - %(levelname)s - %(message)s')\n",
    "stream_handler.setFormatter(stream_format)\n",
    "file_handler.setFormatter(file_format)\n",
    "\n",
    "# Add handlers to the logger\n",
    "logger.addHandler(stream_handler)\n",
    "logger.addHandler(file_handler)\n",
    "\n",
    "logger.warning('This is a warning') # logged to the stream\n",
    "logger.error('This is an error') # logged to the stream AND the file!\n",
    "logger.info('debug msg')"
   ]
  },
  {
   "cell_type": "code",
   "execution_count": 9,
   "metadata": {},
   "outputs": [
    {
     "name": "stdout",
     "output_type": "stream",
     "text": [
      "(None, None, None, None, None, None)\n",
      "(None, None, None, None, None, None)\n",
      "('类别\\n工时/设备/报销/印度工程师/？', '项目\\n一行只能填一个项目，若一项支出用在多个项目，请拆分好', 'item\\n人员/明细', '费用', '备注', None)\n",
      "('工时', '吉利FE-6-A3', '王科', 4612.5, None, None)\n",
      "('工时', '吉利FE-6-A3', '徐耀威', 9900, '无项目工作阶段50%的工时', None)\n",
      "('杭州湾租房', '吉利FE-6-A3', None, 1180, None, None)\n",
      "('Total', None, None, 15692.5, None, None)\n",
      "(None, None, None, None, None, None)\n",
      "(None, None, None, None, None, None)\n",
      "(None, None, None, None, None, None)\n",
      "(None, None, None, None, None, None)\n"
     ]
    }
   ],
   "source": [
    "from openpyxl import load_workbook\n",
    "\n",
    "wb = load_workbook('reportFromVendor/Foryou_EffortHoursSummary_202108.xlsx', data_only=True, read_only=True)\n",
    "ws = wb['博世项目统计Project Expenses Summary']\n",
    "\n",
    "for row in ws.values:\n",
    "    print(row)\n",
    "#    for value in row:\n",
    "    #  print(value)"
   ]
  }
 ],
 "metadata": {
  "interpreter": {
   "hash": "179a8bd006bfb049d3d68ab38c536e87f553384fb181171365cf1a26b5f78a63"
  },
  "kernelspec": {
   "display_name": "Python 3.8.10 64-bit ('env': venv)",
   "language": "python",
   "name": "python3"
  },
  "language_info": {
   "codemirror_mode": {
    "name": "ipython",
    "version": 3
   },
   "file_extension": ".py",
   "mimetype": "text/x-python",
   "name": "python",
   "nbconvert_exporter": "python",
   "pygments_lexer": "ipython3",
   "version": "3.8.10"
  },
  "orig_nbformat": 4
 },
 "nbformat": 4,
 "nbformat_minor": 2
}
