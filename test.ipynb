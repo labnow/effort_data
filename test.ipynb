{
 "cells": [
  {
   "cell_type": "code",
   "execution_count": 1,
   "metadata": {},
   "outputs": [
    {
     "name": "stdout",
     "output_type": "stream",
     "text": [
      "2012-12-12\n",
      "<class 'int'> <class 'float'>\n"
     ]
    }
   ],
   "source": [
    "import pandas as pd\n",
    "from app import ExpenseExternal\n",
    "\n",
    "ExpenseExternal.query"
   ]
  },
  {
   "cell_type": "code",
   "execution_count": 6,
   "metadata": {},
   "outputs": [
    {
     "name": "stdout",
     "output_type": "stream",
     "text": [
      "('projectExpense_internal',)\n",
      "('projectExpense',)\n",
      "('projectRevenue',)\n"
     ]
    }
   ],
   "source": [
    "import sqlite3\n",
    "\n",
    "conn = sqlite3.connect('db.sqlite')\n",
    "cur = conn.cursor()\n",
    "\n",
    "# cur.execute('select * from Revenue')\n",
    "cur.execute(\"SELECT name FROM sqlite_master WHERE type='table';\")\n",
    "for row in cur:\n",
    "    print(row)\n",
    "\n",
    "conn.close()"
   ]
  },
  {
   "cell_type": "code",
   "execution_count": 13,
   "metadata": {},
   "outputs": [],
   "source": [
    "import sqlite3\n",
    "import pandas as pd\n",
    "\n",
    "\n",
    "conn = sqlite3.connect('db.sqlite')\n",
    "cur = conn.cursor()\n",
    "header = ['item', 'project', 'invoice_date', 'amount', 'category', 'partner']\n",
    "cur.execute('select * from projectExpense')\n",
    "# for row in cur:\n",
    "    # print(row)\n",
    "\n",
    "mypd = pd.DataFrame(cur, columns=header)\n",
    "mypd.to_excel('tmp.xlsx', index=False)\n",
    "# print(type(row[2]))\n",
    "conn.close()"
   ]
  },
  {
   "cell_type": "code",
   "execution_count": 26,
   "metadata": {},
   "outputs": [
    {
     "name": "stdout",
     "output_type": "stream",
     "text": [
      "2021-11-01_09-22-20\n"
     ]
    }
   ],
   "source": [
    "from datetime import datetime\n",
    "\n",
    "print(str(datetime.utcnow())[:19].replace(' ', '_').replace(':','-'))"
   ]
  },
  {
   "cell_type": "code",
   "execution_count": 3,
   "metadata": {},
   "outputs": [
    {
     "data": {
      "text/plain": [
       "'<p>a\\nb\\n</p>'"
      ]
     },
     "execution_count": 3,
     "metadata": {},
     "output_type": "execute_result"
    }
   ],
   "source": [
    "import sys\n",
    "from io import StringIO\n",
    "from datetime import datetime\n",
    "\n",
    "def run():\n",
    "    from io import StringIO\n",
    "    \n",
    "    original_stdout = sys.stdout\n",
    "    tmp_out = StringIO()\n",
    "    sys.stdout = tmp_out\n",
    "    print('a')\n",
    "    print('b')\n",
    "    log_name = 'log_' + str(datetime.utcnow())[:19].replace(' ', '_').replace(':','-') + '.txt'\n",
    "    with open(log_name, 'w') as f:\n",
    "        f.write(tmp_out.getvalue())\n",
    "    sys.stdout = original_stdout\n",
    "    return '<p>{}</p>'.format(tmp_out.getvalue())\n",
    "\n",
    "run()"
   ]
  }
 ],
 "metadata": {
  "interpreter": {
   "hash": "179a8bd006bfb049d3d68ab38c536e87f553384fb181171365cf1a26b5f78a63"
  },
  "kernelspec": {
   "display_name": "Python 3.8.10 64-bit ('env': venv)",
   "name": "python3"
  },
  "language_info": {
   "codemirror_mode": {
    "name": "ipython",
    "version": 3
   },
   "file_extension": ".py",
   "mimetype": "text/x-python",
   "name": "python",
   "nbconvert_exporter": "python",
   "pygments_lexer": "ipython3",
   "version": "3.8.10"
  },
  "orig_nbformat": 4
 },
 "nbformat": 4,
 "nbformat_minor": 2
}
