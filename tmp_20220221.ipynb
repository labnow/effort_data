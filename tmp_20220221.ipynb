{
 "cells": [
  {
   "cell_type": "code",
   "execution_count": 5,
   "metadata": {},
   "outputs": [],
   "source": [
    "import json\n",
    "import csv\n",
    "\n",
    "with open('billing_status.json') as f:\n",
    "    internal_cost = json.load(f)[\"data\"]\n",
    "    # t_header = json.load(f)[\"header\"]\n",
    "\n",
    "t_data = list()\n",
    "\n",
    "for key, item in internal_cost.items():\n",
    "    t_data.append(item)\n",
    "\n",
    "with open('revenue.csv', 'w', encoding='UTF8') as f:\n",
    "    writer = csv.writer(f)\n",
    "    # writer.writerow(t_header)\n",
    "    writer.writerows(t_data)\n"
   ]
  }
 ],
 "metadata": {
  "interpreter": {
   "hash": "5a14e200992a12e41f2948bd288d5b3363ccb62e3840a0097cda70ce578b2ba6"
  },
  "kernelspec": {
   "display_name": "Python 3.8.10 ('.env': venv)",
   "language": "python",
   "name": "python3"
  },
  "language_info": {
   "codemirror_mode": {
    "name": "ipython",
    "version": 3
   },
   "file_extension": ".py",
   "mimetype": "text/x-python",
   "name": "python",
   "nbconvert_exporter": "python",
   "pygments_lexer": "ipython3",
   "version": "3.8.10"
  },
  "orig_nbformat": 4
 },
 "nbformat": 4,
 "nbformat_minor": 2
}
